{
 "cells": [
  {
   "cell_type": "code",
   "execution_count": 1,
   "metadata": {},
   "outputs": [],
   "source": [
    "import tensorflow as tf\n",
    "import numpy as np\n",
    "import matplotlib.pyplot as plt\n",
    "from matplotlib import animation, rc\n",
    "from IPython.display import HTML"
   ]
  },
  {
   "cell_type": "code",
   "execution_count": 2,
   "metadata": {},
   "outputs": [],
   "source": [
    "m,n,p = 50,51,52\n",
    "sphere = np.zeros((p, m,n))\n",
    "for i in range(m) :\n",
    "    for j in range(n) :\n",
    "        for k in range(p) :\n",
    "            v = np.array([i,j,k])\n",
    "            d = v - np.array([20,10,10])\n",
    "            d2 = v - np.array([30,39,20])\n",
    "            if np.sum(d*d) < 10 or np.sum(d2*d2) < 10 :\n",
    "                sphere[k, i,j] = 1\n",
    "\n",
    "sphere[1,1:-2,1] = 1\n",
    "sphere[-2,1:-2,1] = 1\n",
    "sphere[1,1:-2,-2] = 1\n",
    "sphere[-2,1:-2,-2] = 1\n",
    "\n",
    "sphere[1:-2,1,1] = 1\n",
    "sphere[1:-2,-2,1] = 1\n",
    "sphere[1:-2,1,-2] = 1\n",
    "sphere[1:-2,-2,-2] = 1\n",
    "\n",
    "sphere[1,1,1:-2] = 1\n",
    "sphere[-2,1,1:-2] = 1\n",
    "sphere[1,-2,1:-2] = 1\n",
    "sphere[-2,-2,1:-2] = 1\n"
   ]
  },
  {
   "cell_type": "code",
   "execution_count": 3,
   "metadata": {},
   "outputs": [],
   "source": [
    "t = 0"
   ]
  },
  {
   "cell_type": "code",
   "execution_count": 4,
   "metadata": {},
   "outputs": [
    {
     "data": {
      "text/plain": [
       "<matplotlib.image.AxesImage at 0x7f7df00307d0>"
      ]
     },
     "execution_count": 4,
     "metadata": {},
     "output_type": "execute_result"
    },
    {
     "data": {
      "image/png": "[encoded data removed]",
      "text/plain": [
       "<Figure size 432x288 with 1 Axes>"
      ]
     },
     "metadata": {
      "needs_background": "light"
     },
     "output_type": "display_data"
    }
   ],
   "source": [
    "def render(camera_pos, center, array) :\n",
    "    order = 1\n",
    "    if abs(camera_pos[2]) > abs(camera_pos[0]) :\n",
    "        camera_pos = camera_pos[::-1]\n",
    "        center = center[::-1]\n",
    "        array = np.swapaxes(array, 0, 2)\n",
    "        order = -1\n",
    "    p,m,n = array.shape\n",
    "        \n",
    "    c0 = center - camera_pos\n",
    "    c0 = c0 / np.linalg.norm(c0)\n",
    "    ci = np.array([0,1,0])\n",
    "    ci = ci - np.sum(ci*c0)*c0\n",
    "    ci = ci / np.linalg.norm(ci)\n",
    "    cj = np.cross(c0,ci)\n",
    "\n",
    "    display_m,display_n = 150,170\n",
    "    fact = 0.05\n",
    "    indices = np.indices((display_m,display_n)).swapaxes(0,2).swapaxes(0,1)\n",
    "    pixel_pos = 0\n",
    "    pixel_pos = camera_pos + c0*10\n",
    "    pixel_pos = pixel_pos + fact*np.reshape(ci,[1,1,3])*(indices[:,:,0:1] - (display_m-1) / 2) \n",
    "    pixel_pos = pixel_pos + fact*np.reshape(cj,[1,1,3])*(indices[:,:,1:2] - (display_n-1) / 2)\n",
    "\n",
    "    #solving : camera_pos[0] + (pixel_pos[:,:,0] - camera_pos[0])*x = k\n",
    "    batch_fact = []\n",
    "    for k in range(p) :\n",
    "        fact = (k - camera_pos[0]) / (pixel_pos[:,:,0] - camera_pos[0])\n",
    "        batch_fact.append(fact)\n",
    "    batch_indices = []\n",
    "    #Using : new indicies = camera_pos[1:] + (pixel_pos[1:] - camera_pos[1:])*x\n",
    "    max_clip = np.stack([np.ones((display_m,display_n))*(m-1),np.ones((display_m,display_n))*(n-1)], axis=-1)\n",
    "    for x in batch_fact:\n",
    "        cam_pos_reshaped = np.reshape(camera_pos[1:],(1,1,2))\n",
    "        intersect_indices = cam_pos_reshaped + (pixel_pos[:,:,1:] - cam_pos_reshaped)*np.reshape(x,(display_m,display_n,1))\n",
    "        batch_indices.append(tf.clip_by_value(intersect_indices, 0, max_clip).numpy().astype(np.int))\n",
    "\n",
    "    batch_indices = np.array(batch_indices)\n",
    "    result = tf.gather_nd(array, batch_indices, batch_dims=1)\n",
    "    return result.numpy().sum(axis = 0)[:,::order]\n",
    "  \n",
    "ims = []\n",
    "array = sphere\n",
    "center = (np.array([m,n,p])-1)/2\n",
    "fig = plt.figure()\n",
    "\n",
    "for i in range(15) :\n",
    "    camera_pos = center +100*np.array([-np.cos(t),0,-np.sin(t)])\n",
    "    plt.axis('off')\n",
    "    res = render(camera_pos, center, array)\n",
    "    ims.append([plt.imshow(res, animated=True)])\n",
    "    t += 0.1\n",
    "plt.imshow(render(camera_pos, center, array))"
   ]
  },
  {
   "cell_type": "code",
   "execution_count": 5,
   "metadata": {},
   "outputs": [
    {
     "data": {
      "text/html": [
       "<video width=\"432\" height=\"288\" controls autoplay loop>\n",
       "  <source type=\"video/mp4\" src=\"data:video/mp4;base64,AAAAHGZ0eXBNNFYgAAACAGlzb21pc28yYXZjMQAAAAhmcmVlAAANtm1kYXQAAAKtBgX//6ncRem9\n",
       "5tlIt5Ys2CDZI+7veDI2NCAtIGNvcmUgMTQ4IHIyNzYgM2Y1ZWQ1NiAtIEguMjY0L01QRUctNCBB\n",
       "VkMgY29kZWMgLSBDb3B5bGVmdCAyMDAzLTIwMTYgLSBodHRwOi8vd3d3LnZpZGVvbGFuLm9yZy94\n",
       "MjY0Lmh0bWwgLSBvcHRpb25zOiBjYWJhYz0xIHJlZj0zIGRlYmxvY2s9MTowOjAgYW5hbHlzZT0w\n",
       "eDM6MHgxMTMgbWU9aGV4IHN1Ym1lPTcgcHN5PTEgcHN5X3JkPTEuMDA6MC4wMCBtaXhlZF9yZWY9\n",
       "MSBtZV9yYW5nZT0xNiBjaHJvbWFfbWU9MSB0cmVsbGlzPTEgOHg4ZGN0PTEgY3FtPTAgZGVhZHpv\n",
       "bmU9MjEsMTEgZmFzdF9wc2tpcD0xIGNocm9tYV9xcF9vZmZzZXQ9LTIgdGhyZWFkcz05IGxvb2th\n",
       "aGVhZF90aHJlYWRzPTEgc2xpY2VkX3RocmVhZHM9MCBucj0wIGRlY2ltYXRlPTEgaW50ZXJsYWNl\n",
       "ZD0wIGJsdXJheV9jb21wYXQ9MCBjb25zdHJhaW5lZF9pbnRyYT0wIGJmcmFtZXM9MyBiX3B5cmFt\n",
       "aWQ9MiBiX2FkYXB0PTEgYl9iaWFzPTAgZGlyZWN0PTEgd2VpZ2h0Yj0xIG9wZW5fZ29wPTAgd2Vp\n",
       "Z2h0cD0yIGtleWludD0yNTAga2V5aW50X21pbj0yMCBzY2VuZWN1dD00MCBpbnRyYV9yZWZyZXNo\n",
       "PTAgcmNfbG9va2FoZWFkPTQwIHJjPWNyZiBtYnRyZWU9MSBjcmY9MjMuMCBxY29tcD0wLjYwIHFw\n",
       "bWluPTAgcXBtYXg9NjkgcXBzdGVwPTQgaXBfcmF0aW89MS40MCBhcT0xOjEuMDAAgAAACb1liIQA\n",
       "P//+92ifAptaQ3qA5JXFJdtPgf+rZ3B8j+kDAAADAACurHPopkgYXevGAAJuvyVEAhq2AAK/SO2F\n",
       "Vri4oZcjY9h/o99By/hobpALLlt/5bP+9n3C3fX20WY55RD87j4HdpobH2zx24QBhMlnG5P6tJg6\n",
       "aSoWVGEkgcd7pKXd4DMT9JS3vZBwO/nhPBLIXwfDHHWXVRvFbt7HgsNsrJIFfrE8tikIL7X33tv2\n",
       "KG50bPi6ciu6MrF8oXBKssc/fMUO4k90Fv8OPKmKWsenLocIbPIBM+xGJrVTIPF/McIT1Bq3dKBn\n",
       "Ak/OiiuFCcnz4hJehKsVaBAqpAJv5nBpIOT+5hdrT0W/lSWrT+j1ME2s+WY2OTHBhd4VNooOf4Cj\n",
       "g37y8/9tB1v4xDW68XCi+pleGYqLNWetSaTpT9g99NE4fcRNkHvJxTRv7csA1s39EI171lcjBHnW\n",
       "iWV8MZhNX649C+SEevdVMuOgQLE0LK7h2OoOM2kHE9PfbSclYh/+3/Lh9pg/nHhlP0t4gorDzcDz\n",
       "9zcwCqUi2dY5+zuL6UwMI/lLMM9Rjfvguk1FHxiKTmXYY+YI8qZ4xb0j3cN/DSDAsmQRkXLstZ9i\n",
       "0KnD78LJHUBvFmyhnmgADQDpT+jUlDq5qbMAtbUtJZ0AkpWzoG03mlyOgSNulP0fQABVbzG5FdEo\n",
       "nLBs9bOysyXPPBYBK+NYd4lU674eCoMYPQb9vhDw6fFusX+ggJ1lApPzDJXa0ubq/qCnzys0VnA5\n",
       "QY8nP96ZfWWujvFnY0vWSBKD4pirMsgeJ8XB+Dpoz9CFfg0WYNbbRNx7DiyLW8wn5rQMwv4TfodV\n",
       "vBaFMaW85OJiPeQReGPMVFte5Bg8TMFC7842KWCEMpjqeHGNo126W1aG78YvsKKsSrz4aenjvUF/\n",
       "uMNQdEpmEcBNXBcj8yETHhaJBF4jatQPjmrA046lga/lPBz5u5XH7oVKq1/SZtQkUnPA+Adfw3Rx\n",
       "jw/97nwu8GL3Ac5a+jV30c59rLvNwxBmmmdIH84/cxk1aQke5UDpNVz5j3RmwFHpM1awdA1PxgSC\n",
       "+9s5wutmMvG8YPBG30/Y+xhKxQU0ik017SzR9aeiqPWWA1YsnoAWmE9eyE4tdkqYaqDwY4Ei1LqV\n",
       "RunhyD5JUpNjRVWunHFc3gnm3GBBCXKtyRy8JJsfrEiruc6aOsQD00E4thMHjXOV0Auk9LDRt4CV\n",
       "AqROG9TIBRbfp56K5BP6ox1vFSSkWbGzj1CszDRJMT2z3pYDm7qacwLbEgvljeYoAdDfETMRwMZv\n",
       "ZIYxAuL7QtrImhnumdveIfzVedqcEflfn38MxiKDvZeOyFqDGVXAwVQ/DGKtPU0qO9VVO8PIKHpc\n",
       "4c58Ah5ZJdNcWRahhQrzxl7FDwYbpOObWd+BQuUcg9MFx//pf+oiVyM5szhMAx8OisJuVrfSAu1d\n",
       "VaeT4lq3igy++NNoeBv7IhcLX5x8puDADecowrxnZK2JSMLSCqVFeTNk1+ZjCNA1hNOluPcwVgFO\n",
       "TZsWDUErazvLYIzcVLkIS5BAIIMIsd5f6xo8kmXgc9kxrPqLIZHfJKFnyuMW6nZ4KjnT3pzoSl04\n",
       "v1iwJR99KklCnjGFZh8sIY0scnaopHtoC0jl01+KjzFf2eVlAkvNuTjNjXHRn8ObnI6+t+gztB8n\n",
       "HNi+lgQzTwok2EFgsMyniw89N0lLY+HakHsfwTWi4smnBN1uhWvLcVhB++l3E7o/lUR5RdTKtFz2\n",
       "4RWSo+yzxuFhrmi3T/Y019VhKEJz40Gbll1HdxNB1XKxttHW3JO8qAaitzxBtohnE4COb0ndHxBW\n",
       "tA3aL0jUcttC5wsozWStK/57XIx5vmVj3OdNKBVBfaBhb61gfE2E9UiKT6Nx4PtA1WI4zi2h2HPX\n",
       "RwxaO6OO3GqdagfrERKZJWIEPvrRvULBf7QyW1XBmHbHYHTtuZ/Dv1IiRHHC0kZTxBmMGnwFzVP0\n",
       "sPswBFPgmeI4JEawnOzdMueByOs0516a7xTWfVn2/yJMnTERHnc5EOnT8aSVwrkcPZubnwPZ81RS\n",
       "ahv0pvIFPhv0TYQGewc0ZwJyx9cJM34flkAcP7qWXsx3q1iBmchagifoRItgbmYJjWDZyQvsvcXj\n",
       "3IkSz/U7cDtNDo9y2P5xCYv2FwQbR0fNRTzHrolFjmLYOV7hGr4fpJR5SRdfXbpxfyaxwoquFFVU\n",
       "ApotEl6s88389wmQakNzrGS6noyyrdXSQl4UIjw73cNcbdSSahVnXY6w6MWkpjiEgTrU6qBVxOOF\n",
       "cORUJxXFpv4CFejrhOk1Fr64vNOVISUFuTkl94Avu87ak9f09XoGvDvTCk4YQSmKAIPveS/BSbBq\n",
       "4P4sDxScoRhUKsV9srU6jR/oqSYA1/eScWYK33p8x+/XSH2nzhR25QVQ4UkQsBrPHJXRxRz8b0eT\n",
       "ChS0UKLnak52vc4Sk4RO1jfrGNDjCDNyLt58pMiXdW2QUYst/Dkce6C763YI4rJ/n8CS9JBnCANI\n",
       "WiRiLrD3f2dasu0NB93KzygKGTECTkCNFqALzuuAT19UnmQoPwACR2OtSwwNGJE/TKgajNHcmsvf\n",
       "q2VfDUDUJ9mgtmuOPMmDBsw2oqejVMJbv/yRehK1COv0hbiuImZbjWFGmDwHCRXodbgPAzxAHDN9\n",
       "d+HJakm43MlWUuvbPcyXnGCI31USBOur14yWTNYRLDTvgC0GjokAP+GX1YDXX2w+UkWGxqDxJWP3\n",
       "Y6N+U7lTFB19IzICeNRrUqZWBU7tyPRSHRvtf2JeZBnMOhqhEcJDlB687jQXGx2zhtN39Tcga2jt\n",
       "7VrRU0VDQw+lOsuHI0RVdNi2+i0ELCjjz4IQROmwRuoP2ui08rLsACDTqY/5ZGhaduOYd+ai5Eg1\n",
       "ktMlX+R4XQ+2ZK4kqufVJ8fnvAFNVWJ26sVEZC/sYvO8IbKO7dNkb37h0SN5BrEmUa/657kH+9ui\n",
       "oQDB/HX0joKdBzDhWUqBqqLozP0DnbNTRSUZxYB4aYz8XK5yXSS94/wFXvZU+Q2jnGqOU2LUIFS/\n",
       "3Cyj51GzZBfOxA3OwbZGF9ntAypBabKfCZ3sTN6MLpYZ1h/xX79/rv5GAqIYN6hmWo9cJ1Q5A6M3\n",
       "KdXNECPSd2f3wY87wweCASCDh5/4m7ZojmfXr1NtgsGk/OY22zWpiWPKDLAtGRgzRQ9cdKfI9isp\n",
       "UHHMAo3ZKlAn7Fhgj6zQO+KSgnMrpcT92LVweLlJA6Aw7XxqYjf1RMIUF+fxzR1skyMRRoXsJ+fE\n",
       "FNXnxmLQIF4h0hud2S3LPWpkk0yC0+vcruwxZH3AAADeAVFEEhEAAABGQZokbEO//qmWCbaVBzHQ\n",
       "X71dHoAJHlABs5F8aaNrJkFgLJlBvMTW41tT6yV5q3h9qf6UXvLi7HywAH4NYfzxRzkhxoBZwAAA\n",
       "ABNBnkJ4hn8Bqchwcw6qfSFPrDVhAAAAEQGeYXRCvwLtMN1LmOHEefCgAAAACwGeY2pCvwAAAwGL\n",
       "AAAAFUGaaEmoQWiZTAh3//6plgAAAwDwgQAAAA5BnoZFESwz/wAAAwDUgQAAAAsBnqV0Qr8AAAMB\n",
       "iwAAAAsBnqdqQr8AAAMBiwAAABNBmqxJqEFsmUwIZ//+nhAAAAdMAAAADkGeykUVLDP/AAADANSB\n",
       "AAAACwGe6XRCvwAAAwGLAAAACwGe62pCvwAAAwGLAAAAFEGa7kmoQWyZTBRMK//+OEAAABxxAAAA\n",
       "CwGfDWpCvwAAAwGLAAAD4m1vb3YAAABsbXZoZAAAAAAAAAAAAAAAAAAAA+gAAALuAAEAAAEAAAAA\n",
       "AAAAAAAAAAABAAAAAAAAAAAAAAAAAAAAAQAAAAAAAAAAAAAAAAAAQAAAAAAAAAAAAAAAAAAAAAAA\n",
       "AAAAAAAAAAAAAAAAAAIAAAMMdHJhawAAAFx0a2hkAAAAAwAAAAAAAAAAAAAAAQAAAAAAAALuAAAA\n",
       "AAAAAAAAAAAAAAAAAAABAAAAAAAAAAAAAAAAAAAAAQAAAAAAAAAAAAAAAAAAQAAAAAGwAAABIAAA\n",
       "AAAAJGVkdHMAAAAcZWxzdAAAAAAAAAABAAAC7gAABAAAAQAAAAAChG1kaWEAAAAgbWRoZAAAAAAA\n",
       "AAAAAAAAAAAAKAAAAB4AVcQAAAAAAC1oZGxyAAAAAAAAAAB2aWRlAAAAAAAAAAAAAAAAVmlkZW9I\n",
       "YW5kbGVyAAAAAi9taW5mAAAAFHZtaGQAAAABAAAAAAAAAAAAAAAkZGluZgAAABxkcmVmAAAAAAAA\n",
       "AAEAAAAMdXJsIAAAAAEAAAHvc3RibAAAALNzdHNkAAAAAAAAAAEAAACjYXZjMQAAAAAAAAABAAAA\n",
       "AAAAAAAAAAAAAAAAAAGwASAASAAAAEgAAAAAAAAAAQAAAAAAAAAAAAAAAAAAAAAAAAAAAAAAAAAA\n",
       "AAAAAAAAABj//wAAADFhdmNDAWQAFf/hABhnZAAVrNlBsJaEAAADAAQAAAMAoDxYtlgBAAZo6+PL\n",
       "IsAAAAAcdXVpZGtoQPJfJE/FujmlG88DI/MAAAAAAAAAGHN0dHMAAAAAAAAAAQAAAA8AAAIAAAAA\n",
       "FHN0c3MAAAAAAAAAAQAAAAEAAACIY3R0cwAAAAAAAAAPAAAAAQAABAAAAAABAAAKAAAAAAEAAAQA\n",
       "AAAAAQAAAAAAAAABAAACAAAAAAEAAAoAAAAAAQAABAAAAAABAAAAAAAAAAEAAAIAAAAAAQAACgAA\n",
       "AAABAAAEAAAAAAEAAAAAAAAAAQAAAgAAAAABAAAGAAAAAAEAAAIAAAAAHHN0c2MAAAAAAAAAAQAA\n",
       "AAEAAAAPAAAAAQAAAFBzdHN6AAAAAAAAAAAAAAAPAAAMcgAAAEoAAAAXAAAAFQAAAA8AAAAZAAAA\n",
       "EgAAAA8AAAAPAAAAFwAAABIAAAAPAAAADwAAABgAAAAPAAAAFHN0Y28AAAAAAAAAAQAAACwAAABi\n",
       "dWR0YQAAAFptZXRhAAAAAAAAACFoZGxyAAAAAAAAAABtZGlyYXBwbAAAAAAAAAAAAAAAAC1pbHN0\n",
       "AAAAJal0b28AAAAdZGF0YQAAAAEAAAAATGF2ZjU3LjQxLjEwMA==\n",
       "\">\n",
       "  Your browser does not support the video tag.\n",
       "</video>"
      ],
      "text/plain": [
       "<IPython.core.display.HTML object>"
      ]
     },
     "execution_count": 5,
     "metadata": {},
     "output_type": "execute_result"
    }
   ],
   "source": [
    "ani1 = animation.ArtistAnimation(fig, ims, interval=50, blit=True,\n",
    "                                repeat_delay=1000)\n",
    "HTML(ani1.to_html5_video())"
   ]
  },
  {
   "cell_type": "code",
   "execution_count": null,
   "metadata": {},
   "outputs": [],
   "source": []
  }
 ],
 "metadata": {
  "kernelspec": {
   "display_name": "Python 3",
   "language": "python",
   "name": "python3"
  },
  "language_info": {
   "codemirror_mode": {
    "name": "ipython",
    "version": 3
   },
   "file_extension": ".py",
   "mimetype": "text/x-python",
   "name": "python",
   "nbconvert_exporter": "python",
   "pygments_lexer": "ipython3",
   "version": "3.7.5"
  }
 },
 "nbformat": 4,
 "nbformat_minor": 2
}
