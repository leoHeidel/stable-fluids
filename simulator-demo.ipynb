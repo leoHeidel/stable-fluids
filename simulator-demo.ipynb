{
 "cells": [
  {
   "cell_type": "code",
   "execution_count": null,
   "metadata": {},
   "outputs": [],
   "source": [
    "import numpy as np\n",
    "import matplotlib.pyplot as plt\n",
    "from IPython.display import clear_output\n",
    "import time"
   ]
  },
  {
   "cell_type": "code",
   "execution_count": null,
   "metadata": {},
   "outputs": [],
   "source": [
    "from simulator import Simulator, div"
   ]
  },
  {
   "cell_type": "code",
   "execution_count": null,
   "metadata": {},
   "outputs": [],
   "source": [
    "def force(m,n, w):\n",
    "    f = np.zeros((m,n,2))\n",
    "    f[5:-5,40:60,0] = 1 - w[5:-5,40:60,0]\n",
    "    f += np.random.normal(size=(m,n,2))/3\n",
    "    return f\n",
    "\n",
    "def border_condition(w):\n",
    "    w[0,:,0] = 0\n",
    "    w[-1,:,0] = 0\n",
    "    w[:,0,1] = 0\n",
    "    w[:,-1,1] = 0"
   ]
  },
  {
   "cell_type": "code",
   "execution_count": null,
   "metadata": {},
   "outputs": [],
   "source": [
    "m,n = 80,100\n",
    "sim = Simulator(m,n, 1, 0.01, border_condition, force)"
   ]
  },
  {
   "cell_type": "code",
   "execution_count": null,
   "metadata": {
    "scrolled": true
   },
   "outputs": [],
   "source": [
    "x = np.zeros((m,n))\n",
    "\n",
    "def take_scalar(a,indices_i, indices_j) :\n",
    "    m,n = a.shape[:2]\n",
    "    full_idices = n*indices_i + indices_j\n",
    "    reshaped = a.reshape(m*n)\n",
    "    res = np.take(reshaped,full_idices, axis=0)\n",
    "    return res.reshape(m,n)\n",
    "\n",
    "def update_scalar(s,w,dt) :\n",
    "    m,n = w.shape[:2]\n",
    "    indices = np.indices((m,n)).swapaxes(0,2).swapaxes(0,1) - dt*w\n",
    "    indices_floor = np.floor(indices).astype(np.int)\n",
    "    frac = indices-indices_floor\n",
    "    frac = [1-frac,frac]\n",
    "    indices_ceil = indices_floor + 1\n",
    "    indices_floor[:,:,0] = np.clip(indices_floor[:,:,0], 0, m-1)\n",
    "    indices_ceil[:,:,0] = np.clip(indices_ceil[:,:,0], 0, m-1)\n",
    "    indices_floor[:,:,1] = np.clip(indices_floor[:,:,1], 0, n-1)\n",
    "    indices_ceil[:,:,1] = np.clip(indices_ceil[:,:,1], 0, n-1)\n",
    "    indices = [indices_floor, indices_ceil] # shape : 2 m,n,2\n",
    "\n",
    "    res = np.zeros((m,n))\n",
    "    for i in range(2) :\n",
    "        for j in range(2) :\n",
    "            res += np.reshape(frac[i][:,:,0]*frac[j][:,:,1], (m,n)) * take_scalar(x, indices[i][:,:,0], indices[j][:,:,1])\n",
    "    res = res*1\n",
    "    res[0:2,40:60] = 1\n",
    "    return res\n",
    "\n",
    "for i in range(10000) :\n",
    "    dt=0.8\n",
    "    sim.time_step(dt)\n",
    "    x = update_scalar(x,sim.w,dt)\n",
    "    if not i % 1 :\n",
    "        plt.axis('off')\n",
    "        plt.imshow(x[::-1,:])\n",
    "        clear_output()\n",
    "        plt.show()"
   ]
  },
  {
   "cell_type": "code",
   "execution_count": null,
   "metadata": {},
   "outputs": [],
   "source": [
    "for i in range(10000) :\n",
    "    sim.time_step(0.4)\n",
    "    if not i % 10 :\n",
    "        sim.display()\n",
    "        plt.axis('off')\n",
    "        clear_output()\n",
    "        plt.show()"
   ]
  }
 ],
 "metadata": {
  "kernelspec": {
   "display_name": "Python 3",
   "language": "python",
   "name": "python3"
  },
  "language_info": {
   "codemirror_mode": {
    "name": "ipython",
    "version": 3
   },
   "file_extension": ".py",
   "mimetype": "text/x-python",
   "name": "python",
   "nbconvert_exporter": "python",
   "pygments_lexer": "ipython3",
   "version": "3.7.4"
  }
 },
 "nbformat": 4,
 "nbformat_minor": 2
}
