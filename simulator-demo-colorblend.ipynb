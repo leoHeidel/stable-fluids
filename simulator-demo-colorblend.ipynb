{
 "cells": [
  {
   "cell_type": "code",
   "execution_count": 1,
   "metadata": {},
   "outputs": [],
   "source": [
    "import numpy as np\n",
    "import matplotlib.pyplot as plt\n",
    "from matplotlib import animation, rc\n",
    "from IPython.display import HTML"
   ]
  },
  {
   "cell_type": "code",
   "execution_count": 3,
   "metadata": {},
   "outputs": [
    {
     "name": "stdout",
     "output_type": "stream",
     "text": [
      "GPUs found : [PhysicalDevice(name='/physical_device:GPU:0', device_type='GPU')]\n"
     ]
    }
   ],
   "source": [
    "from simulatorMultiDim import Simulator\n",
    "from geometry import geo2d_33conv\n",
    "from renderer import Renderer"
   ]
  },
  {
   "cell_type": "code",
   "execution_count": 7,
   "metadata": {},
   "outputs": [],
   "source": [
    "def force(w):\n",
    "    m,n = w.shape[:2]\n",
    "    f = np.zeros((m,n,2))\n",
    "    f[-38:-2,25:45,0] = (-1 - w[-38:-2,25:45,0])\n",
    "    f[2:38,55:75,0] = (1 - w[2:38,55:75,0])\n",
    "    f += np.random.normal(size=(m,n,2))/3\n",
    "    return f.astype(np.float32)"
   ]
  },
  {
   "cell_type": "code",
   "execution_count": 8,
   "metadata": {},
   "outputs": [],
   "source": [
    "m,n = 80,100\n",
    "sim = Simulator((m,n), 1, 0.01, force, geo2d_33conv(m,n), 1)"
   ]
  },
  {
   "cell_type": "code",
   "execution_count": 9,
   "metadata": {
    "scrolled": true
   },
   "outputs": [
    {
     "name": "stdout",
     "output_type": "stream",
     "text": [
      "0\n",
      "20\n",
      "40\n",
      "60\n",
      "80\n",
      "100\n",
      "120\n",
      "140\n",
      "160\n",
      "180\n",
      "200\n",
      "220\n",
      "240\n",
      "260\n",
      "280\n",
      "CPU times: user 9.77 s, sys: 406 ms, total: 10.2 s\n",
      "Wall time: 7.69 s\n"
     ]
    },
    {
     "data": {
      "image/png": "[encoded data removed]",
      "text/plain": [
       "<Figure size 432x288 with 1 Axes>"
      ]
     },
     "metadata": {
      "needs_background": "light"
     },
     "output_type": "display_data"
    }
   ],
   "source": [
    "%%time\n",
    "\n",
    "x = np.zeros((m,n,3))\n",
    "x[-5:-2,40:60,0] = 1.0\n",
    "x[2:5,40:60,2] = 1.0\n",
    "\n",
    "\n",
    "def take_scalar(a,indices_i, indices_j) :\n",
    "    m,n = a.shape[:2]\n",
    "    full_idices = n*indices_i + indices_j\n",
    "    reshaped = a.reshape(m*n)\n",
    "    res = np.take(reshaped,full_idices, axis=0)\n",
    "    return res.reshape(m,n)\n",
    "\n",
    "def update_scalar(s,w,dt) :\n",
    "    m,n = w.shape[:2]\n",
    "    indices = np.indices((m,n)).swapaxes(0,2).swapaxes(0,1) - dt*w\n",
    "    indices_floor = np.floor(indices).astype(np.int)\n",
    "    frac = indices-indices_floor\n",
    "    frac = [1-frac,frac]\n",
    "    indices_ceil = indices_floor + 1\n",
    "    indices_floor[:,:,0] = np.clip(indices_floor[:,:,0], 0, m-1)\n",
    "    indices_ceil[:,:,0] = np.clip(indices_ceil[:,:,0], 0, m-1)\n",
    "    indices_floor[:,:,1] = np.clip(indices_floor[:,:,1], 0, n-1)\n",
    "    indices_ceil[:,:,1] = np.clip(indices_ceil[:,:,1], 0, n-1)\n",
    "    indices = [indices_floor, indices_ceil] # shape : 2 m,n,2\n",
    "\n",
    "    res = np.zeros((m,n))\n",
    "    for i in range(2) :\n",
    "        for j in range(2) :\n",
    "            res += np.reshape(frac[i][:,:,0]*frac[j][:,:,1], (m,n)) * take_scalar(s, indices[i][:,:,0], indices[j][:,:,1])\n",
    "    res = res*1\n",
    "    #res[0:2,40:60] = 1\n",
    "    return res\n",
    "\n",
    "fig = plt.figure()\n",
    "ims = []\n",
    "for i in range(300) :\n",
    "    dt=1\n",
    "    sim.time_step(dt)\n",
    "    x[:,:,0] = update_scalar(x[:,:,0],sim.w,dt)\n",
    "    x[:,:,1] = update_scalar(x[:,:,1],sim.w,dt)\n",
    "    x[:,:,2] = update_scalar(x[:,:,2],sim.w,dt)\n",
    "    \n",
    "    if i<3000:\n",
    "        x[2:5,55:75,2] = 1.0\n",
    "        x[-5:-2,25:45,0] = 1.0\n",
    "    else:\n",
    "        x[2:5,55:75,1] = 1.0\n",
    "        x[-5:-2,25:45,2] = 1.0\n",
    "    if not i % 20 :\n",
    "        print(i)\n",
    "    if not i % 3 :\n",
    "        plt.axis('off')\n",
    "        ims.append([plt.imshow(x, animated=True)])"
   ]
  },
  {
   "cell_type": "code",
   "execution_count": 10,
   "metadata": {},
   "outputs": [],
   "source": [
    "ani1 = animation.ArtistAnimation(fig, ims, interval=50, blit=True,\n",
    "                                repeat_delay=1000)\n",
    "HTML(ani1.to_html5_video())\n",
    "Writer = animation.writers['ffmpeg']\n",
    "writer = Writer(fps=20, metadata=dict(artist='Me'), bitrate=1800)\n",
    "#ani1.save('colorblend.mp4', writer=writer)"
   ]
  }
 ],
 "metadata": {
  "kernelspec": {
   "display_name": "Python 3",
   "language": "python",
   "name": "python3"
  },
  "language_info": {
   "codemirror_mode": {
    "name": "ipython",
    "version": 3
   },
   "file_extension": ".py",
   "mimetype": "text/x-python",
   "name": "python",
   "nbconvert_exporter": "python",
   "pygments_lexer": "ipython3",
   "version": "3.7.5"
  }
 },
 "nbformat": 4,
 "nbformat_minor": 2
}
