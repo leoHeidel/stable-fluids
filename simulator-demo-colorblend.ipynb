{
 "cells": [
  {
   "cell_type": "code",
   "execution_count": 2,
   "metadata": {},
   "outputs": [],
   "source": [
    "#import os\n",
    "#os.environ[\"CUDA_VISIBLE_DEVICES\"]=\"-1\"    \n",
    "#import tensorflow as tf"
   ]
  },
  {
   "cell_type": "code",
   "execution_count": 3,
   "metadata": {},
   "outputs": [],
   "source": [
    "import numpy as np\n",
    "import matplotlib.pyplot as plt\n",
    "from matplotlib import animation, rc\n",
    "from IPython.display import HTML"
   ]
  },
  {
   "cell_type": "code",
   "execution_count": 4,
   "metadata": {},
   "outputs": [
    {
     "name": "stdout",
     "output_type": "stream",
     "text": [
      "GPUs found : [PhysicalDevice(name='/physical_device:GPU:0', device_type='GPU')]\n"
     ]
    }
   ],
   "source": [
    "from simulator import Simulator, div"
   ]
  },
  {
   "cell_type": "code",
   "execution_count": 5,
   "metadata": {},
   "outputs": [],
   "source": [
    "def force(m,n, w):\n",
    "    f = np.zeros((m,n,2))\n",
    "    f[-38:-2,25:45,0] = (-1 - w[-38:-2,25:45,0])\n",
    "    f[2:38,55:75,0] = (1 - w[2:38,55:75,0])\n",
    "    f += np.random.normal(size=(m,n,2))/3\n",
    "    return f\n",
    "\n",
    "def border_condition(w):\n",
    "    w[0,:,0] = 0\n",
    "    w[-1,:,0] = 0\n",
    "    w[:,0,1] = 0\n",
    "    w[:,-1,1] = 0"
   ]
  },
  {
   "cell_type": "code",
   "execution_count": 6,
   "metadata": {},
   "outputs": [],
   "source": [
    "m,n = 80,100\n",
    "sim = Simulator(m,n, 1, 0.01, border_condition, force)"
   ]
  },
  {
   "cell_type": "code",
   "execution_count": 12,
   "metadata": {
    "scrolled": true
   },
   "outputs": [
    {
     "name": "stdout",
     "output_type": "stream",
     "text": [
      "0\n",
      "20\n",
      "40\n",
      "60\n",
      "80\n",
      "100\n",
      "120\n",
      "140\n",
      "160\n",
      "180\n",
      "200\n",
      "220\n",
      "240\n",
      "260\n",
      "280\n",
      "CPU times: user 32.3 s, sys: 860 ms, total: 33.2 s\n",
      "Wall time: 28.6 s\n"
     ]
    },
    {
     "data": {
      "image/png": "[encoded data removed]",
      "text/plain": [
       "<Figure size 432x288 with 1 Axes>"
      ]
     },
     "metadata": {
      "needs_background": "light"
     },
     "output_type": "display_data"
    }
   ],
   "source": [
    "%%time\n",
    "\n",
    "x = np.zeros((m,n,3))\n",
    "x[-5:-2,40:60,0] = 1.0\n",
    "x[2:5,40:60,2] = 1.0\n",
    "\n",
    "\n",
    "def take_scalar(a,indices_i, indices_j) :\n",
    "    m,n = a.shape[:2]\n",
    "    full_idices = n*indices_i + indices_j\n",
    "    reshaped = a.reshape(m*n)\n",
    "    res = np.take(reshaped,full_idices, axis=0)\n",
    "    return res.reshape(m,n)\n",
    "\n",
    "def update_scalar(s,w,dt) :\n",
    "    m,n = w.shape[:2]\n",
    "    indices = np.indices((m,n)).swapaxes(0,2).swapaxes(0,1) - dt*w\n",
    "    indices_floor = np.floor(indices).astype(np.int)\n",
    "    frac = indices-indices_floor\n",
    "    frac = [1-frac,frac]\n",
    "    indices_ceil = indices_floor + 1\n",
    "    indices_floor[:,:,0] = np.clip(indices_floor[:,:,0], 0, m-1)\n",
    "    indices_ceil[:,:,0] = np.clip(indices_ceil[:,:,0], 0, m-1)\n",
    "    indices_floor[:,:,1] = np.clip(indices_floor[:,:,1], 0, n-1)\n",
    "    indices_ceil[:,:,1] = np.clip(indices_ceil[:,:,1], 0, n-1)\n",
    "    indices = [indices_floor, indices_ceil] # shape : 2 m,n,2\n",
    "\n",
    "    res = np.zeros((m,n))\n",
    "    for i in range(2) :\n",
    "        for j in range(2) :\n",
    "            res += np.reshape(frac[i][:,:,0]*frac[j][:,:,1], (m,n)) * take_scalar(s, indices[i][:,:,0], indices[j][:,:,1])\n",
    "    res = res*1\n",
    "    #res[0:2,40:60] = 1\n",
    "    return res\n",
    "\n",
    "fig = plt.figure()\n",
    "ims = []\n",
    "for i in range(300) :\n",
    "    dt=1\n",
    "    sim.time_step(dt)\n",
    "    x[:,:,0] = update_scalar(x[:,:,0],sim.w,dt)\n",
    "    x[:,:,1] = update_scalar(x[:,:,1],sim.w,dt)\n",
    "    x[:,:,2] = update_scalar(x[:,:,2],sim.w,dt)\n",
    "    \n",
    "    if i<3000:\n",
    "        x[2:5,55:75,2] = 1.0\n",
    "        x[-5:-2,25:45,0] = 1.0\n",
    "    else:\n",
    "        x[2:5,55:75,1] = 1.0\n",
    "        x[-5:-2,25:45,2] = 1.0\n",
    "    if not i % 20 :\n",
    "        print(i)\n",
    "    if not i % 3 :\n",
    "        plt.axis('off')\n",
    "        ims.append([plt.imshow(x, animated=True)])"
   ]
  },
  {
   "cell_type": "code",
   "execution_count": 8,
   "metadata": {},
   "outputs": [],
   "source": [
    "ani1 = animation.ArtistAnimation(fig, ims, interval=50, blit=True,\n",
    "                                repeat_delay=1000)\n",
    "HTML(ani1.to_html5_video())\n",
    "Writer = animation.writers['ffmpeg']\n",
    "writer = Writer(fps=20, metadata=dict(artist='Me'), bitrate=1800)\n",
    "#ani1.save('colorblend.mp4', writer=writer)"
   ]
  },
  {
   "cell_type": "code",
   "execution_count": 9,
   "metadata": {},
   "outputs": [],
   "source": [
    "import cProfile\n",
    "def test_func() :\n",
    "    for i in range(100) :\n",
    "        sim.time_step(dt)\n",
    "cProfile.run('test_func()', 'restats')"
   ]
  },
  {
   "cell_type": "code",
   "execution_count": 20,
   "metadata": {},
   "outputs": [
    {
     "name": "stdout",
     "output_type": "stream",
     "text": [
      "Tue Nov 19 15:51:09 2019    restats\n",
      "\n",
      "         10829706 function calls (10739044 primitive calls) in 12.015 seconds\n",
      "\n",
      "   Ordered by: cumulative time\n",
      "   List reduced from 456 to 50 due to restriction <50>\n",
      "\n",
      "   ncalls  tottime  percall  cumtime  percall filename:lineno(function)\n",
      "        1    0.000    0.000   12.015   12.015 {built-in method builtins.exec}\n",
      "        1    0.000    0.000   12.015   12.015 <string>:1(<module>)\n",
      "        1    0.000    0.000   12.015   12.015 <ipython-input-14-79df4a85f0ea>:2(test_func)\n",
      "      100    0.003    0.000   12.015    0.120 /Data/leo_h/stable-fluids/simulator.py:194(time_step)\n",
      "      100    0.004    0.000   10.015    0.100 /Data/leo_h/stable-fluids/simulator.py:174(compute_w4)\n",
      "      100    0.036    0.000    9.817    0.098 /Data/leo_h/stable-fluids/simulator.py:59(conjgrad_lap)\n",
      "     3809    0.113    0.000    8.365    0.002 /Data/leo_h/stable-fluids/simulator.py:50(conjgrad_lap_step)\n",
      "   154815    4.969    0.000    4.971    0.000 {built-in method _pywrap_tensorflow_internal.TFE_Py_FastPathExecute}\n",
      "     4009    0.014    0.000    2.881    0.001 /Data/leo_h/stable-fluids/simulator.py:40(lap)\n",
      "    42690    0.151    0.000    2.723    0.000 /Data/leo_h/miniconda3/envs/tf2/lib/python3.7/site-packages/tensorflow_core/python/ops/math_ops.py:896(binary_op_wrapper)\n",
      "    24654    0.054    0.000    2.463    0.000 /Data/leo_h/miniconda3/envs/tf2/lib/python3.7/site-packages/tensorflow_core/python/ops/variables.py:1077(_run_op)\n",
      "    41090    0.173    0.000    1.994    0.000 /Data/leo_h/miniconda3/envs/tf2/lib/python3.7/site-packages/tensorflow_core/python/ops/resource_variable_ops.py:518(value)\n",
      "     8618    0.010    0.000    1.767    0.000 /Data/leo_h/miniconda3/envs/tf2/lib/python3.7/site-packages/tensorflow_core/python/ops/nn_ops.py:901(convolution_v2)\n",
      "     8618    0.076    0.000    1.757    0.000 /Data/leo_h/miniconda3/envs/tf2/lib/python3.7/site-packages/tensorflow_core/python/ops/nn_ops.py:942(convolution_internal)\n",
      "    81462    0.034    0.000    1.658    0.000 /Data/leo_h/miniconda3/envs/tf2/lib/python3.7/site-packages/tensorflow_core/python/framework/ops.py:1187(convert_to_tensor_v2)\n",
      "    81462    0.206    0.000    1.624    0.000 /Data/leo_h/miniconda3/envs/tf2/lib/python3.7/site-packages/tensorflow_core/python/framework/ops.py:1249(internal_convert_to_tensor)\n",
      "    16036    0.086    0.000    1.599    0.000 /Data/leo_h/miniconda3/envs/tf2/lib/python3.7/site-packages/tensorflow_core/python/ops/resource_variable_ops.py:794(assign)\n",
      "     4109    0.027    0.000    1.548    0.000 /Data/leo_h/stable-fluids/simulator.py:28(grad)\n",
      "53899/53499    0.028    0.000    1.495    0.000 /Data/leo_h/miniconda3/envs/tf2/lib/python3.7/site-packages/tensorflow_core/python/util/dispatch.py:177(wrapper)\n",
      "     4109    0.022    0.000    1.398    0.000 /Data/leo_h/stable-fluids/simulator.py:37(div)\n",
      "     8618    0.012    0.000    1.384    0.000 /Data/leo_h/miniconda3/envs/tf2/lib/python3.7/site-packages/tensorflow_core/python/ops/gen_nn_ops.py:955(conv2d)\n",
      "17436/16736    0.032    0.000    1.367    0.000 /Data/leo_h/miniconda3/envs/tf2/lib/python3.7/site-packages/tensorflow_core/python/ops/variables.py:256(__call__)\n",
      "    41290    0.097    0.000    1.333    0.000 /Data/leo_h/miniconda3/envs/tf2/lib/python3.7/site-packages/tensorflow_core/python/ops/resource_variable_ops.py:605(_read_variable_op)\n",
      "      100    0.003    0.000    1.213    0.012 /Data/leo_h/stable-fluids/simulator.py:163(compute_w3)\n",
      "    10218    0.130    0.000    1.192    0.000 /Data/leo_h/miniconda3/envs/tf2/lib/python3.7/site-packages/tensorflow_core/python/ops/array_ops.py:669(_slice_helper)\n",
      "      100    0.004    0.000    1.078    0.011 /Data/leo_h/stable-fluids/simulator.py:79(conjgrad_diff)\n",
      "    16436    0.012    0.000    0.846    0.000 /Data/leo_h/miniconda3/envs/tf2/lib/python3.7/site-packages/tensorflow_core/python/ops/resource_variable_ops.py:1788(_dense_var_to_tensor)\n",
      "      700    0.002    0.000    0.836    0.001 /Data/leo_h/miniconda3/envs/tf2/lib/python3.7/site-packages/tensorflow_core/python/ops/variables.py:221(_variable_v2_call)\n",
      "    16436    0.018    0.000    0.834    0.000 /Data/leo_h/miniconda3/envs/tf2/lib/python3.7/site-packages/tensorflow_core/python/ops/resource_variable_ops.py:1205(_dense_var_to_tensor)\n",
      "      700    0.001    0.000    0.831    0.001 /Data/leo_h/miniconda3/envs/tf2/lib/python3.7/site-packages/tensorflow_core/python/ops/variables.py:235(<lambda>)\n",
      "      700    0.003    0.000    0.830    0.001 /Data/leo_h/miniconda3/envs/tf2/lib/python3.7/site-packages/tensorflow_core/python/ops/variable_scope.py:2526(default_variable_creator_v2)\n",
      "      700    0.002    0.000    0.824    0.001 /Data/leo_h/miniconda3/envs/tf2/lib/python3.7/site-packages/tensorflow_core/python/ops/resource_variable_ops.py:1307(__init__)\n",
      "      700    0.026    0.000    0.823    0.001 /Data/leo_h/miniconda3/envs/tf2/lib/python3.7/site-packages/tensorflow_core/python/ops/resource_variable_ops.py:1408(_init_from_args)\n",
      "    16036    0.056    0.000    0.779    0.000 /Data/leo_h/miniconda3/envs/tf2/lib/python3.7/site-packages/tensorflow_core/python/ops/resource_variable_ops.py:786(_lazy_read)\n",
      "    65026    0.048    0.000    0.724    0.000 /Data/leo_h/miniconda3/envs/tf2/lib/python3.7/site-packages/tensorflow_core/python/framework/ops.py:1127(convert_to_tensor)\n",
      "    17436    0.029    0.000    0.693    0.000 /Data/leo_h/miniconda3/envs/tf2/lib/python3.7/site-packages/tensorflow_core/python/util/deprecation.py:473(new_func)\n",
      "      700    0.003    0.000    0.684    0.001 /Data/leo_h/miniconda3/envs/tf2/lib/python3.7/site-packages/tensorflow_core/python/ops/resource_variable_ops.py:181(eager_safe_variable_handle)\n",
      "      700    0.010    0.000    0.680    0.001 /Data/leo_h/miniconda3/envs/tf2/lib/python3.7/site-packages/tensorflow_core/python/ops/resource_variable_ops.py:133(variable_handle_from_shape_and_dtype)\n",
      "    57326    0.079    0.000    0.654    0.000 /Data/leo_h/miniconda3/envs/tf2/lib/python3.7/site-packages/tensorflow_core/python/ops/resource_variable_ops.py:309(variable_accessed)\n",
      "    41290    0.044    0.000    0.637    0.000 /Data/leo_h/miniconda3/envs/tf2/lib/python3.7/site-packages/tensorflow_core/python/ops/gen_resource_variable_ops.py:545(read_variable_op)\n",
      "    31054    0.018    0.000    0.590    0.000 /Data/leo_h/miniconda3/envs/tf2/lib/python3.7/site-packages/tensorflow_core/python/ops/array_ops.py:1110(stack)\n",
      "    21745    0.021    0.000    0.583    0.000 /Data/leo_h/miniconda3/envs/tf2/lib/python3.7/site-packages/tensorflow_core/python/ops/math_ops.py:1202(_mul_dispatch)\n",
      "      100    0.013    0.000    0.566    0.006 /Data/leo_h/stable-fluids/simulator.py:142(compute_w2)\n",
      "    21745    0.024    0.000    0.561    0.000 /Data/leo_h/miniconda3/envs/tf2/lib/python3.7/site-packages/tensorflow_core/python/ops/gen_math_ops.py:6666(mul)\n",
      "    16036    0.039    0.000    0.501    0.000 /Data/leo_h/miniconda3/envs/tf2/lib/python3.7/site-packages/tensorflow_core/python/ops/resource_variable_ops.py:1805(__init__)\n",
      "     4409    0.469    0.000    0.469    0.000 {method '_numpy' of 'tensorflow.python.framework.ops.EagerTensor' objects}\n",
      "     4009    0.006    0.000    0.447    0.000 /Data/leo_h/miniconda3/envs/tf2/lib/python3.7/site-packages/tensorflow_core/python/framework/ops.py:875(__bool__)\n",
      "     4009    0.006    0.000    0.444    0.000 /Data/leo_h/miniconda3/envs/tf2/lib/python3.7/site-packages/tensorflow_core/python/ops/gen_math_ops.py:5336(less)\n",
      "      200    0.007    0.000    0.429    0.002 /Data/leo_h/stable-fluids/simulator.py:69(conjgrad_diff_step)\n",
      "    16736    0.124    0.000    0.419    0.000 /Data/leo_h/miniconda3/envs/tf2/lib/python3.7/site-packages/tensorflow_core/python/ops/resource_variable_ops.py:320(__init__)\n",
      "\n",
      "\n"
     ]
    },
    {
     "data": {
      "text/plain": [
       "<pstats.Stats at 0x7f4338798250>"
      ]
     },
     "execution_count": 20,
     "metadata": {},
     "output_type": "execute_result"
    }
   ],
   "source": [
    "import pstats\n",
    "p = pstats.Stats('restats')\n",
    "p.sort_stats('cumulative').print_stats(50)"
   ]
  },
  {
   "cell_type": "code",
   "execution_count": null,
   "metadata": {},
   "outputs": [],
   "source": []
  }
 ],
 "metadata": {
  "kernelspec": {
   "display_name": "Python 3",
   "language": "python",
   "name": "python3"
  },
  "language_info": {
   "codemirror_mode": {
    "name": "ipython",
    "version": 3
   },
   "file_extension": ".py",
   "mimetype": "text/x-python",
   "name": "python",
   "nbconvert_exporter": "python",
   "pygments_lexer": "ipython3",
   "version": "3.7.5"
  }
 },
 "nbformat": 4,
 "nbformat_minor": 2
}
